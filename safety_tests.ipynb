{
 "cells": [
  {
   "cell_type": "code",
   "execution_count": 1,
   "metadata": {},
   "outputs": [],
   "source": [
    "\"\"\"Code for Safety Module.\"\"\"\n",
    "\n",
    "import glob\n",
    "from typing import List, Optional\n",
    "\n",
    "import pandas as pd\n",
    "from loguru import logger\n",
    "\n",
    "from tde import target\n",
    "from tde.target.utils import read_parquet\n",
    "\n",
    "# Define directories in use\n",
    "RAW_DATA_DIR = \"/home/owkin/project/target/raw_data\"\n",
    "PROCESS_DATA_DIR = \"/home/owkin/project/target/processed_data\"\n",
    "\n",
    "\n",
    "def _reformat_ot_safety(df: pd.DataFrame, col_explode: str, cols_subset_ls: List[str]) -> pd.DataFrame:\n",
    "    \"\"\"Create a dataframe by exploding safetyLiabilities column.\"\"\"\n",
    "    # Create temporary dataframes to explode lists of dictionaries and flatten out values of interest into columns\n",
    "    df_temp1 = df.explode(col_explode)\n",
    "    # Drop rows with missing values in safetyLiabilities\n",
    "    df_temp1.dropna(subset=[col_explode], inplace=True)\n",
    "    df_temp1.reset_index(inplace=True)\n",
    "\n",
    "    df_temp2 = df_temp1[col_explode].apply(pd.Series, dtype=\"object\")\n",
    "    df_temp3 = df_temp2.explode(\"biosamples\")\n",
    "    df_temp4 = df_temp3[\"biosamples\"].apply(pd.Series, dtype=\"object\")[[\"cellLabel\", \"tissueLabel\"]]\n",
    "\n",
    "    # Concatenate all temporary dataframes into one\n",
    "    df_concat = pd.concat([df_temp1, df_temp2, df_temp4], axis=1)\n",
    "\n",
    "    # Subset for columns of interest\n",
    "    df_subset = df_concat[cols_subset_ls]\n",
    "\n",
    "    return df_subset\n",
    "\n"
   ]
  },
  {
   "cell_type": "code",
   "execution_count": 5,
   "metadata": {},
   "outputs": [],
   "source": [
    "\n",
    "col_explode = \"safetyLiabilities\"\n",
    "cols_subset_ls = [\"gene_id\", \"cellLabel\", \"tissueLabel\", \"event\", \"datasource\"]\n",
    "\n",
    "files_ls = glob.glob(f\"{RAW_DATA_DIR}/targets/*.parquet\")\n",
    "\n",
    "# Read in all parquet files into single dataframe\n",
    "parquet_df_ls = [\n",
    "    read_parquet(file_path=file, cols_subset_ls=[\"gene_id\", \"tractability\", \"safetyLiabilities\"])\n",
    "    for file in files_ls\n",
    "]\n",
    "\n",
    "df = pd.concat(parquet_df_ls, ignore_index=True)\n"
   ]
  },
  {
   "cell_type": "code",
   "execution_count": 74,
   "metadata": {},
   "outputs": [
    {
     "data": {
      "text/html": [
       "<div>\n",
       "<style scoped>\n",
       "    .dataframe tbody tr th:only-of-type {\n",
       "        vertical-align: middle;\n",
       "    }\n",
       "\n",
       "    .dataframe tbody tr th {\n",
       "        vertical-align: top;\n",
       "    }\n",
       "\n",
       "    .dataframe thead th {\n",
       "        text-align: right;\n",
       "    }\n",
       "</style>\n",
       "<table border=\"1\" class=\"dataframe\">\n",
       "  <thead>\n",
       "    <tr style=\"text-align: right;\">\n",
       "      <th></th>\n",
       "      <th>gene_id</th>\n",
       "      <th>tractability</th>\n",
       "      <th>safetyLiabilities</th>\n",
       "    </tr>\n",
       "  </thead>\n",
       "  <tbody>\n",
       "    <tr>\n",
       "      <th>13</th>\n",
       "      <td>ENSG00000105641</td>\n",
       "      <td>[{'modality': 'SM', 'id': 'Approved Drug', 'va...</td>\n",
       "      <td>[{'event': 'Cognitive Function, Decreased', 'e...</td>\n",
       "    </tr>\n",
       "    <tr>\n",
       "      <th>31</th>\n",
       "      <td>ENSG00000138823</td>\n",
       "      <td>[{'modality': 'SM', 'id': 'Approved Drug', 'va...</td>\n",
       "      <td>[{'event': 'Increased, Liver Steatosis', 'even...</td>\n",
       "    </tr>\n",
       "    <tr>\n",
       "      <th>45</th>\n",
       "      <td>ENSG00000163586</td>\n",
       "      <td>[{'modality': 'SM', 'id': 'Approved Drug', 'va...</td>\n",
       "      <td>[{'event': 'regulation of transcription factor...</td>\n",
       "    </tr>\n",
       "    <tr>\n",
       "      <th>55</th>\n",
       "      <td>ENSG00000169410</td>\n",
       "      <td>[{'modality': 'SM', 'id': 'Approved Drug', 'va...</td>\n",
       "      <td>[{'event': 'regulation of catalytic activity',...</td>\n",
       "    </tr>\n",
       "    <tr>\n",
       "      <th>138</th>\n",
       "      <td>ENSG00000232810</td>\n",
       "      <td>[{'modality': 'SM', 'id': 'Approved Drug', 'va...</td>\n",
       "      <td>[{'event': 'regulation of gene expression', 'e...</td>\n",
       "    </tr>\n",
       "    <tr>\n",
       "      <th>...</th>\n",
       "      <td>...</td>\n",
       "      <td>...</td>\n",
       "      <td>...</td>\n",
       "    </tr>\n",
       "    <tr>\n",
       "      <th>62070</th>\n",
       "      <td>ENSG00000163285</td>\n",
       "      <td>[{'modality': 'SM', 'id': 'Approved Drug', 'va...</td>\n",
       "      <td>[{'event': 'increased eating', 'eventId': 'HP_...</td>\n",
       "    </tr>\n",
       "    <tr>\n",
       "      <th>62354</th>\n",
       "      <td>ENSG00000050748</td>\n",
       "      <td>[{'modality': 'SM', 'id': 'Approved Drug', 'va...</td>\n",
       "      <td>[{'event': 'regulation of catalytic activity',...</td>\n",
       "    </tr>\n",
       "    <tr>\n",
       "      <th>62367</th>\n",
       "      <td>ENSG00000111087</td>\n",
       "      <td>[{'modality': 'SM', 'id': 'Approved Drug', 'va...</td>\n",
       "      <td>[{'event': 'regulation of transcription factor...</td>\n",
       "    </tr>\n",
       "    <tr>\n",
       "      <th>62432</th>\n",
       "      <td>ENSG00000181072</td>\n",
       "      <td>[{'modality': 'SM', 'id': 'Approved Drug', 'va...</td>\n",
       "      <td>[{'event': 'peripheral edema', 'eventId': None...</td>\n",
       "    </tr>\n",
       "    <tr>\n",
       "      <th>62435</th>\n",
       "      <td>ENSG00000185231</td>\n",
       "      <td>[{'modality': 'SM', 'id': 'Approved Drug', 'va...</td>\n",
       "      <td>[{'event': 'regulation of transcription factor...</td>\n",
       "    </tr>\n",
       "  </tbody>\n",
       "</table>\n",
       "<p>503 rows × 3 columns</p>\n",
       "</div>"
      ],
      "text/plain": [
       "               gene_id                                       tractability  \\\n",
       "13     ENSG00000105641  [{'modality': 'SM', 'id': 'Approved Drug', 'va...   \n",
       "31     ENSG00000138823  [{'modality': 'SM', 'id': 'Approved Drug', 'va...   \n",
       "45     ENSG00000163586  [{'modality': 'SM', 'id': 'Approved Drug', 'va...   \n",
       "55     ENSG00000169410  [{'modality': 'SM', 'id': 'Approved Drug', 'va...   \n",
       "138    ENSG00000232810  [{'modality': 'SM', 'id': 'Approved Drug', 'va...   \n",
       "...                ...                                                ...   \n",
       "62070  ENSG00000163285  [{'modality': 'SM', 'id': 'Approved Drug', 'va...   \n",
       "62354  ENSG00000050748  [{'modality': 'SM', 'id': 'Approved Drug', 'va...   \n",
       "62367  ENSG00000111087  [{'modality': 'SM', 'id': 'Approved Drug', 'va...   \n",
       "62432  ENSG00000181072  [{'modality': 'SM', 'id': 'Approved Drug', 'va...   \n",
       "62435  ENSG00000185231  [{'modality': 'SM', 'id': 'Approved Drug', 'va...   \n",
       "\n",
       "                                       safetyLiabilities  \n",
       "13     [{'event': 'Cognitive Function, Decreased', 'e...  \n",
       "31     [{'event': 'Increased, Liver Steatosis', 'even...  \n",
       "45     [{'event': 'regulation of transcription factor...  \n",
       "55     [{'event': 'regulation of catalytic activity',...  \n",
       "138    [{'event': 'regulation of gene expression', 'e...  \n",
       "...                                                  ...  \n",
       "62070  [{'event': 'increased eating', 'eventId': 'HP_...  \n",
       "62354  [{'event': 'regulation of catalytic activity',...  \n",
       "62367  [{'event': 'regulation of transcription factor...  \n",
       "62432  [{'event': 'peripheral edema', 'eventId': None...  \n",
       "62435  [{'event': 'regulation of transcription factor...  \n",
       "\n",
       "[503 rows x 3 columns]"
      ]
     },
     "execution_count": 74,
     "metadata": {},
     "output_type": "execute_result"
    }
   ],
   "source": [
    "df[df[\"safetyLiabilities\"].notna()]"
   ]
  },
  {
   "cell_type": "code",
   "execution_count": 6,
   "metadata": {},
   "outputs": [],
   "source": [
    "safety_df = _reformat_ot_safety(df, col_explode ,cols_subset_ls)\n",
    "\n"
   ]
  },
  {
   "cell_type": "code",
   "execution_count": 17,
   "metadata": {},
   "outputs": [],
   "source": [
    "#genes with not empty safety events\n",
    "safety_genes=df[\"gene_id\"][df[\"safetyLiabilities\"].notna()]"
   ]
  },
  {
   "cell_type": "code",
   "execution_count": 34,
   "metadata": {},
   "outputs": [],
   "source": [
    "gene=safety_genes.values[1]"
   ]
  },
  {
   "cell_type": "code",
   "execution_count": null,
   "metadata": {},
   "outputs": [],
   "source": [
    "safety_df[safety_df[\"gene_id\"]==gene]"
   ]
  },
  {
   "cell_type": "code",
   "execution_count": 57,
   "metadata": {},
   "outputs": [],
   "source": [
    "from pprint import pprint\n",
    "from numpy import array"
   ]
  },
  {
   "cell_type": "code",
   "execution_count": 55,
   "metadata": {},
   "outputs": [
    {
     "name": "stdout",
     "output_type": "stream",
     "text": [
      "[array([{'event': 'Increased, Liver Steatosis', 'eventId': 'HP_0001397', 'effects': array([{'direction': 'activation', 'dosing': None}], dtype=object), 'biosamples': None, 'isHumanApplicable': False, 'datasource': 'AOP-Wiki', 'literature': None, 'url': 'https://aopwiki.org/aops/61', 'studies': None}],\n",
      "      dtype=object)]\n"
     ]
    }
   ],
   "source": [
    "pprint(df[\"safetyLiabilities\"][df[\"gene_id\"]==gene].tolist())"
   ]
  },
  {
   "cell_type": "code",
   "execution_count": 82,
   "metadata": {},
   "outputs": [],
   "source": [
    "varList=[array([{'event': 'Increased, Liver Steatosis', 'eventId': 'HP_0001397', 'effects': array([{'direction': 'activation', 'dosing': None}], dtype=object), 'biosamples': None, 'isHumanApplicable': False, 'datasource': 'AOP-Wiki', 'literature': None, 'url': 'https://aopwiki.org/aops/61', 'studies': None}],\n",
    "      dtype=object)]"
   ]
  },
  {
   "cell_type": "code",
   "execution_count": 93,
   "metadata": {},
   "outputs": [],
   "source": [
    "test = pd.DataFrame({\"gene_id\": gene, \"tractability\": [None], \"safetyLiabilities\": [varList]})\n",
    "  "
   ]
  },
  {
   "cell_type": "code",
   "execution_count": 72,
   "metadata": {},
   "outputs": [
    {
     "data": {
      "text/html": [
       "<div>\n",
       "<style scoped>\n",
       "    .dataframe tbody tr th:only-of-type {\n",
       "        vertical-align: middle;\n",
       "    }\n",
       "\n",
       "    .dataframe tbody tr th {\n",
       "        vertical-align: top;\n",
       "    }\n",
       "\n",
       "    .dataframe thead th {\n",
       "        text-align: right;\n",
       "    }\n",
       "</style>\n",
       "<table border=\"1\" class=\"dataframe\">\n",
       "  <thead>\n",
       "    <tr style=\"text-align: right;\">\n",
       "      <th></th>\n",
       "      <th>gene_id</th>\n",
       "      <th>tractability</th>\n",
       "      <th>safetyLiabilities</th>\n",
       "    </tr>\n",
       "  </thead>\n",
       "  <tbody>\n",
       "    <tr>\n",
       "      <th>0</th>\n",
       "      <td>ENSG00000138823</td>\n",
       "      <td>None</td>\n",
       "      <td>[{'event': 'Increased, Liver Steatosis', 'even...</td>\n",
       "    </tr>\n",
       "  </tbody>\n",
       "</table>\n",
       "</div>"
      ],
      "text/plain": [
       "           gene_id tractability  \\\n",
       "0  ENSG00000138823         None   \n",
       "\n",
       "                                   safetyLiabilities  \n",
       "0  [{'event': 'Increased, Liver Steatosis', 'even...  "
      ]
     },
     "execution_count": 72,
     "metadata": {},
     "output_type": "execute_result"
    }
   ],
   "source": [
    "test"
   ]
  },
  {
   "cell_type": "code",
   "execution_count": 70,
   "metadata": {},
   "outputs": [],
   "source": [
    "expected = pd.DataFrame({\"gene_id\": [\"ENSG00000138823\"], \n",
    "        \"cellLabel\": None,\n",
    "        \"tissueLabel\": None,\n",
    "        \"event\": \"Increased, Liver Steatosis\",\n",
    "        \"datasource\": \"AOP-Wiki\"})\n",
    "\n"
   ]
  },
  {
   "cell_type": "code",
   "execution_count": 71,
   "metadata": {},
   "outputs": [
    {
     "data": {
      "text/html": [
       "<div>\n",
       "<style scoped>\n",
       "    .dataframe tbody tr th:only-of-type {\n",
       "        vertical-align: middle;\n",
       "    }\n",
       "\n",
       "    .dataframe tbody tr th {\n",
       "        vertical-align: top;\n",
       "    }\n",
       "\n",
       "    .dataframe thead th {\n",
       "        text-align: right;\n",
       "    }\n",
       "</style>\n",
       "<table border=\"1\" class=\"dataframe\">\n",
       "  <thead>\n",
       "    <tr style=\"text-align: right;\">\n",
       "      <th></th>\n",
       "      <th>gene_id</th>\n",
       "      <th>cellLabel</th>\n",
       "      <th>tissueLabel</th>\n",
       "      <th>event</th>\n",
       "      <th>datasource</th>\n",
       "    </tr>\n",
       "  </thead>\n",
       "  <tbody>\n",
       "    <tr>\n",
       "      <th>0</th>\n",
       "      <td>ENSG00000138823</td>\n",
       "      <td>None</td>\n",
       "      <td>None</td>\n",
       "      <td>Increased, Liver Steatosis</td>\n",
       "      <td>AOP-Wiki</td>\n",
       "    </tr>\n",
       "  </tbody>\n",
       "</table>\n",
       "</div>"
      ],
      "text/plain": [
       "           gene_id cellLabel tissueLabel                       event  \\\n",
       "0  ENSG00000138823      None        None  Increased, Liver Steatosis   \n",
       "\n",
       "  datasource  \n",
       "0   AOP-Wiki  "
      ]
     },
     "execution_count": 71,
     "metadata": {},
     "output_type": "execute_result"
    }
   ],
   "source": [
    "expected"
   ]
  },
  {
   "cell_type": "code",
   "execution_count": 95,
   "metadata": {},
   "outputs": [],
   "source": [
    "df_temp1=test.explode(\"safetyLiabilities\")\n",
    "df_temp1.dropna(subset=[col_explode], inplace=True)\n",
    "df_temp1.reset_index(inplace=True)\n"
   ]
  },
  {
   "cell_type": "code",
   "execution_count": 111,
   "metadata": {},
   "outputs": [],
   "source": [
    "test2=df[df[\"gene_id\"]==gene]\n",
    "test2.explode(col_explode)\n",
    "test2.reset_index(inplace=True)"
   ]
  },
  {
   "cell_type": "code",
   "execution_count": 112,
   "metadata": {},
   "outputs": [
    {
     "data": {
      "text/html": [
       "<div>\n",
       "<style scoped>\n",
       "    .dataframe tbody tr th:only-of-type {\n",
       "        vertical-align: middle;\n",
       "    }\n",
       "\n",
       "    .dataframe tbody tr th {\n",
       "        vertical-align: top;\n",
       "    }\n",
       "\n",
       "    .dataframe thead th {\n",
       "        text-align: right;\n",
       "    }\n",
       "</style>\n",
       "<table border=\"1\" class=\"dataframe\">\n",
       "  <thead>\n",
       "    <tr style=\"text-align: right;\">\n",
       "      <th></th>\n",
       "      <th>0</th>\n",
       "    </tr>\n",
       "  </thead>\n",
       "  <tbody>\n",
       "    <tr>\n",
       "      <th>0</th>\n",
       "      <td>{'event': 'Increased, Liver Steatosis', 'event...</td>\n",
       "    </tr>\n",
       "  </tbody>\n",
       "</table>\n",
       "</div>"
      ],
      "text/plain": [
       "                                                   0\n",
       "0  {'event': 'Increased, Liver Steatosis', 'event..."
      ]
     },
     "execution_count": 112,
     "metadata": {},
     "output_type": "execute_result"
    }
   ],
   "source": [
    "test2[col_explode].apply(pd.Series, dtype=\"object\")"
   ]
  },
  {
   "cell_type": "code",
   "execution_count": 98,
   "metadata": {},
   "outputs": [
    {
     "data": {
      "text/html": [
       "<div>\n",
       "<style scoped>\n",
       "    .dataframe tbody tr th:only-of-type {\n",
       "        vertical-align: middle;\n",
       "    }\n",
       "\n",
       "    .dataframe tbody tr th {\n",
       "        vertical-align: top;\n",
       "    }\n",
       "\n",
       "    .dataframe thead th {\n",
       "        text-align: right;\n",
       "    }\n",
       "</style>\n",
       "<table border=\"1\" class=\"dataframe\">\n",
       "  <thead>\n",
       "    <tr style=\"text-align: right;\">\n",
       "      <th></th>\n",
       "      <th>0</th>\n",
       "    </tr>\n",
       "  </thead>\n",
       "  <tbody>\n",
       "    <tr>\n",
       "      <th>0</th>\n",
       "      <td>{'event': 'Increased, Liver Steatosis', 'event...</td>\n",
       "    </tr>\n",
       "  </tbody>\n",
       "</table>\n",
       "</div>"
      ],
      "text/plain": [
       "                                                   0\n",
       "0  {'event': 'Increased, Liver Steatosis', 'event..."
      ]
     },
     "execution_count": 98,
     "metadata": {},
     "output_type": "execute_result"
    }
   ],
   "source": [
    "df_temp2"
   ]
  },
  {
   "cell_type": "code",
   "execution_count": 97,
   "metadata": {},
   "outputs": [
    {
     "ename": "KeyError",
     "evalue": "'biosamples'",
     "output_type": "error",
     "traceback": [
      "\u001b[0;31m---------------------------------------------------------------------------\u001b[0m",
      "\u001b[0;31mKeyError\u001b[0m                                  Traceback (most recent call last)",
      "Cell \u001b[0;32mIn[97], line 1\u001b[0m\n\u001b[0;32m----> 1\u001b[0m df_temp3 \u001b[39m=\u001b[39m df_temp2\u001b[39m.\u001b[39;49mexplode(\u001b[39m\"\u001b[39;49m\u001b[39mbiosamples\u001b[39;49m\u001b[39m\"\u001b[39;49m)\n",
      "File \u001b[0;32m~/project/users/rmomal/conda_envs/tde/lib/python3.9/site-packages/pandas/core/frame.py:9032\u001b[0m, in \u001b[0;36mDataFrame.explode\u001b[0;34m(self, column, ignore_index)\u001b[0m\n\u001b[1;32m   9030\u001b[0m df \u001b[39m=\u001b[39m \u001b[39mself\u001b[39m\u001b[39m.\u001b[39mreset_index(drop\u001b[39m=\u001b[39m\u001b[39mTrue\u001b[39;00m)\n\u001b[1;32m   9031\u001b[0m \u001b[39mif\u001b[39;00m \u001b[39mlen\u001b[39m(columns) \u001b[39m==\u001b[39m \u001b[39m1\u001b[39m:\n\u001b[0;32m-> 9032\u001b[0m     result \u001b[39m=\u001b[39m df[columns[\u001b[39m0\u001b[39;49m]]\u001b[39m.\u001b[39mexplode()\n\u001b[1;32m   9033\u001b[0m \u001b[39melse\u001b[39;00m:\n\u001b[1;32m   9034\u001b[0m     mylen \u001b[39m=\u001b[39m \u001b[39mlambda\u001b[39;00m x: \u001b[39mlen\u001b[39m(x) \u001b[39mif\u001b[39;00m is_list_like(x) \u001b[39melse\u001b[39;00m \u001b[39m-\u001b[39m\u001b[39m1\u001b[39m\n",
      "File \u001b[0;32m~/project/users/rmomal/conda_envs/tde/lib/python3.9/site-packages/pandas/core/frame.py:3807\u001b[0m, in \u001b[0;36mDataFrame.__getitem__\u001b[0;34m(self, key)\u001b[0m\n\u001b[1;32m   3805\u001b[0m \u001b[39mif\u001b[39;00m \u001b[39mself\u001b[39m\u001b[39m.\u001b[39mcolumns\u001b[39m.\u001b[39mnlevels \u001b[39m>\u001b[39m \u001b[39m1\u001b[39m:\n\u001b[1;32m   3806\u001b[0m     \u001b[39mreturn\u001b[39;00m \u001b[39mself\u001b[39m\u001b[39m.\u001b[39m_getitem_multilevel(key)\n\u001b[0;32m-> 3807\u001b[0m indexer \u001b[39m=\u001b[39m \u001b[39mself\u001b[39;49m\u001b[39m.\u001b[39;49mcolumns\u001b[39m.\u001b[39;49mget_loc(key)\n\u001b[1;32m   3808\u001b[0m \u001b[39mif\u001b[39;00m is_integer(indexer):\n\u001b[1;32m   3809\u001b[0m     indexer \u001b[39m=\u001b[39m [indexer]\n",
      "File \u001b[0;32m~/project/users/rmomal/conda_envs/tde/lib/python3.9/site-packages/pandas/core/indexes/range.py:395\u001b[0m, in \u001b[0;36mRangeIndex.get_loc\u001b[0;34m(self, key, method, tolerance)\u001b[0m\n\u001b[1;32m    393\u001b[0m             \u001b[39mraise\u001b[39;00m \u001b[39mKeyError\u001b[39;00m(key) \u001b[39mfrom\u001b[39;00m \u001b[39merr\u001b[39;00m\n\u001b[1;32m    394\u001b[0m     \u001b[39mself\u001b[39m\u001b[39m.\u001b[39m_check_indexing_error(key)\n\u001b[0;32m--> 395\u001b[0m     \u001b[39mraise\u001b[39;00m \u001b[39mKeyError\u001b[39;00m(key)\n\u001b[1;32m    396\u001b[0m \u001b[39mreturn\u001b[39;00m \u001b[39msuper\u001b[39m()\u001b[39m.\u001b[39mget_loc(key, method\u001b[39m=\u001b[39mmethod, tolerance\u001b[39m=\u001b[39mtolerance)\n",
      "\u001b[0;31mKeyError\u001b[0m: 'biosamples'"
     ]
    }
   ],
   "source": [
    "df_temp3 = df_temp2.explode(\"biosamples\")"
   ]
  },
  {
   "cell_type": "code",
   "execution_count": 92,
   "metadata": {},
   "outputs": [
    {
     "ename": "KeyError",
     "evalue": "\"None of [Index(['cellLabel', 'tissueLabel'], dtype='object')] are in the [columns]\"",
     "output_type": "error",
     "traceback": [
      "\u001b[0;31m---------------------------------------------------------------------------\u001b[0m",
      "\u001b[0;31mKeyError\u001b[0m                                  Traceback (most recent call last)",
      "Cell \u001b[0;32mIn[92], line 7\u001b[0m\n\u001b[1;32m      5\u001b[0m df_temp2 \u001b[39m=\u001b[39m df_temp1[col_explode]\u001b[39m.\u001b[39mapply(pd\u001b[39m.\u001b[39mSeries, dtype\u001b[39m=\u001b[39m\u001b[39m\"\u001b[39m\u001b[39mobject\u001b[39m\u001b[39m\"\u001b[39m)\n\u001b[1;32m      6\u001b[0m df_temp3 \u001b[39m=\u001b[39m df_temp2\u001b[39m.\u001b[39mexplode(\u001b[39m\"\u001b[39m\u001b[39mbiosamples\u001b[39m\u001b[39m\"\u001b[39m)\n\u001b[0;32m----> 7\u001b[0m df_temp4 \u001b[39m=\u001b[39m df_temp3[\u001b[39m\"\u001b[39;49m\u001b[39mbiosamples\u001b[39;49m\u001b[39m\"\u001b[39;49m]\u001b[39m.\u001b[39;49mapply(pd\u001b[39m.\u001b[39;49mSeries, dtype\u001b[39m=\u001b[39;49m\u001b[39m\"\u001b[39;49m\u001b[39mobject\u001b[39;49m\u001b[39m\"\u001b[39;49m)[[\u001b[39m\"\u001b[39;49m\u001b[39mcellLabel\u001b[39;49m\u001b[39m\"\u001b[39;49m, \u001b[39m\"\u001b[39;49m\u001b[39mtissueLabel\u001b[39;49m\u001b[39m\"\u001b[39;49m]]\n\u001b[1;32m      9\u001b[0m \u001b[39m# Concatenate all temporary dataframes into one\u001b[39;00m\n\u001b[1;32m     10\u001b[0m df_concat \u001b[39m=\u001b[39m pd\u001b[39m.\u001b[39mconcat([df_temp1, df_temp2, df_temp4], axis\u001b[39m=\u001b[39m\u001b[39m1\u001b[39m)\n",
      "File \u001b[0;32m~/project/users/rmomal/conda_envs/tde/lib/python3.9/site-packages/pandas/core/frame.py:3813\u001b[0m, in \u001b[0;36mDataFrame.__getitem__\u001b[0;34m(self, key)\u001b[0m\n\u001b[1;32m   3811\u001b[0m     \u001b[39mif\u001b[39;00m is_iterator(key):\n\u001b[1;32m   3812\u001b[0m         key \u001b[39m=\u001b[39m \u001b[39mlist\u001b[39m(key)\n\u001b[0;32m-> 3813\u001b[0m     indexer \u001b[39m=\u001b[39m \u001b[39mself\u001b[39;49m\u001b[39m.\u001b[39;49mcolumns\u001b[39m.\u001b[39;49m_get_indexer_strict(key, \u001b[39m\"\u001b[39;49m\u001b[39mcolumns\u001b[39;49m\u001b[39m\"\u001b[39;49m)[\u001b[39m1\u001b[39m]\n\u001b[1;32m   3815\u001b[0m \u001b[39m# take() does not accept boolean indexers\u001b[39;00m\n\u001b[1;32m   3816\u001b[0m \u001b[39mif\u001b[39;00m \u001b[39mgetattr\u001b[39m(indexer, \u001b[39m\"\u001b[39m\u001b[39mdtype\u001b[39m\u001b[39m\"\u001b[39m, \u001b[39mNone\u001b[39;00m) \u001b[39m==\u001b[39m \u001b[39mbool\u001b[39m:\n",
      "File \u001b[0;32m~/project/users/rmomal/conda_envs/tde/lib/python3.9/site-packages/pandas/core/indexes/base.py:6070\u001b[0m, in \u001b[0;36mIndex._get_indexer_strict\u001b[0;34m(self, key, axis_name)\u001b[0m\n\u001b[1;32m   6067\u001b[0m \u001b[39melse\u001b[39;00m:\n\u001b[1;32m   6068\u001b[0m     keyarr, indexer, new_indexer \u001b[39m=\u001b[39m \u001b[39mself\u001b[39m\u001b[39m.\u001b[39m_reindex_non_unique(keyarr)\n\u001b[0;32m-> 6070\u001b[0m \u001b[39mself\u001b[39;49m\u001b[39m.\u001b[39;49m_raise_if_missing(keyarr, indexer, axis_name)\n\u001b[1;32m   6072\u001b[0m keyarr \u001b[39m=\u001b[39m \u001b[39mself\u001b[39m\u001b[39m.\u001b[39mtake(indexer)\n\u001b[1;32m   6073\u001b[0m \u001b[39mif\u001b[39;00m \u001b[39misinstance\u001b[39m(key, Index):\n\u001b[1;32m   6074\u001b[0m     \u001b[39m# GH 42790 - Preserve name from an Index\u001b[39;00m\n",
      "File \u001b[0;32m~/project/users/rmomal/conda_envs/tde/lib/python3.9/site-packages/pandas/core/indexes/base.py:6130\u001b[0m, in \u001b[0;36mIndex._raise_if_missing\u001b[0;34m(self, key, indexer, axis_name)\u001b[0m\n\u001b[1;32m   6128\u001b[0m     \u001b[39mif\u001b[39;00m use_interval_msg:\n\u001b[1;32m   6129\u001b[0m         key \u001b[39m=\u001b[39m \u001b[39mlist\u001b[39m(key)\n\u001b[0;32m-> 6130\u001b[0m     \u001b[39mraise\u001b[39;00m \u001b[39mKeyError\u001b[39;00m(\u001b[39mf\u001b[39m\u001b[39m\"\u001b[39m\u001b[39mNone of [\u001b[39m\u001b[39m{\u001b[39;00mkey\u001b[39m}\u001b[39;00m\u001b[39m] are in the [\u001b[39m\u001b[39m{\u001b[39;00maxis_name\u001b[39m}\u001b[39;00m\u001b[39m]\u001b[39m\u001b[39m\"\u001b[39m)\n\u001b[1;32m   6132\u001b[0m not_found \u001b[39m=\u001b[39m \u001b[39mlist\u001b[39m(ensure_index(key)[missing_mask\u001b[39m.\u001b[39mnonzero()[\u001b[39m0\u001b[39m]]\u001b[39m.\u001b[39munique())\n\u001b[1;32m   6133\u001b[0m \u001b[39mraise\u001b[39;00m \u001b[39mKeyError\u001b[39;00m(\u001b[39mf\u001b[39m\u001b[39m\"\u001b[39m\u001b[39m{\u001b[39;00mnot_found\u001b[39m}\u001b[39;00m\u001b[39m not in index\u001b[39m\u001b[39m\"\u001b[39m)\n",
      "\u001b[0;31mKeyError\u001b[0m: \"None of [Index(['cellLabel', 'tissueLabel'], dtype='object')] are in the [columns]\""
     ]
    }
   ],
   "source": [
    "# Drop rows with missing values in safetyLiabilities\n",
    "\n",
    "\n",
    "df_temp2 = df_temp1[col_explode].apply(pd.Series, dtype=\"object\")\n",
    "df_temp3 = df_temp2.explode(\"biosamples\")\n",
    "df_temp4 = df_temp3[\"biosamples\"].apply(pd.Series, dtype=\"object\")[[\"cellLabel\", \"tissueLabel\"]]\n",
    "\n",
    "# Concatenate all temporary dataframes into one\n",
    "df_concat = pd.concat([df_temp1, df_temp2, df_temp4], axis=1)\n",
    "\n",
    "# Subset for columns of interest\n",
    "df_subset = df_concat[cols_subset_ls]\n"
   ]
  }
 ],
 "metadata": {
  "kernelspec": {
   "display_name": "tde",
   "language": "python",
   "name": "python3"
  },
  "language_info": {
   "codemirror_mode": {
    "name": "ipython",
    "version": 3
   },
   "file_extension": ".py",
   "mimetype": "text/x-python",
   "name": "python",
   "nbconvert_exporter": "python",
   "pygments_lexer": "ipython3",
   "version": "3.9.16"
  },
  "orig_nbformat": 4,
  "vscode": {
   "interpreter": {
    "hash": "61d4e8f40da6d07e069e2efc6e364ea7f53f7705e654ab5d1aa60d547cf0a263"
   }
  }
 },
 "nbformat": 4,
 "nbformat_minor": 2
}
